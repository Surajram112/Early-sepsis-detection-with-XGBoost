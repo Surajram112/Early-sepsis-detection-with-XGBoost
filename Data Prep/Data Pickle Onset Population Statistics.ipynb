{
 "cells": [
  {
   "cell_type": "markdown",
   "id": "c74a914f",
   "metadata": {},
   "source": [
    " # Import Libraries"
   ]
  },
  {
   "cell_type": "code",
   "execution_count": null,
   "id": "86e14160",
   "metadata": {},
   "outputs": [],
   "source": [
    "from __future__ import absolute_import, division, print_function\n",
    "import os\n",
    "import base64\n",
    "import matplotlib\n",
    "import matplotlib.pyplot as plt\n",
    "import IPython\n",
    "import numpy as np\n",
    "import pandas as pd\n",
    "import pickle\n",
    "import pandas_gbq\n",
    "import random\n",
    "from tqdm.notebook import tnrange\n",
    "from sklearn.preprocessing import MinMaxScaler\n",
    "import joblib\n",
    "from tableone import TableOne\n",
    "\n",
    "# Print current working directory\n",
    "print(\"Current working dir : %s\" % os.getcwd())"
   ]
  },
  {
   "cell_type": "markdown",
   "id": "bba7f29c",
   "metadata": {},
   "source": [
    "# Import the Dataset"
   ]
  },
  {
   "cell_type": "code",
   "execution_count": null,
   "id": "c94c9df6",
   "metadata": {},
   "outputs": [],
   "source": [
    "################################### ICU Reduced Filtered dataset #######################################################\n",
    "with open(os.path.join(os.getcwd(),('ICU_ONSET_RANGE_LIM.pickle')), 'rb') as f:\n",
    "    df = pickle.load(f)\n",
    "print(f'Dataset loaded.')"
   ]
  },
  {
   "cell_type": "markdown",
   "id": "1d53ca9c",
   "metadata": {},
   "source": [
    "# Population Statistics"
   ]
  },
  {
   "cell_type": "code",
   "execution_count": null,
   "id": "3a081cee",
   "metadata": {},
   "outputs": [],
   "source": [
    "df_pat = df.groupby(['PatientID']).max()"
   ]
  },
  {
   "cell_type": "code",
   "execution_count": null,
   "id": "76013b5b",
   "metadata": {},
   "outputs": [],
   "source": [
    "df_pat"
   ]
  },
  {
   "cell_type": "code",
   "execution_count": null,
   "id": "fa936398",
   "metadata": {},
   "outputs": [],
   "source": [
    "columns = ['admission_age','ethnicity','gender','weight','first_hosp_stay','heart_rate_vs','charlson_comorbidity_index','SOFA_24h']"
   ]
  },
  {
   "cell_type": "code",
   "execution_count": null,
   "id": "41183e54",
   "metadata": {},
   "outputs": [],
   "source": [
    "categorical = ['gender','ethnicity','first_hosp_stay']"
   ]
  },
  {
   "cell_type": "code",
   "execution_count": null,
   "id": "ce1598b4",
   "metadata": {},
   "outputs": [],
   "source": [
    "groupby = ['SepsisLabel']"
   ]
  },
  {
   "cell_type": "code",
   "execution_count": null,
   "id": "91623623",
   "metadata": {},
   "outputs": [],
   "source": [
    "mytable = TableOne(df_pat, columns, categorical, groupby, pval=True)"
   ]
  },
  {
   "cell_type": "code",
   "execution_count": null,
   "id": "c5e2400a",
   "metadata": {},
   "outputs": [],
   "source": [
    "print(mytable.tabulate(tablefmt=\"github\"))"
   ]
  },
  {
   "cell_type": "code",
   "execution_count": null,
   "id": "d5b26bd1",
   "metadata": {},
   "outputs": [],
   "source": [
    "mytable.to_excel('mytable.xlsx')"
   ]
  },
  {
   "cell_type": "code",
   "execution_count": null,
   "id": "837cc002",
   "metadata": {},
   "outputs": [],
   "source": [
    "mytable.to_latex('Statistics.tex')"
   ]
  },
  {
   "cell_type": "markdown",
   "id": "0a0d1a6f",
   "metadata": {},
   "source": [
    "# Count Diagnosis point"
   ]
  },
  {
   "cell_type": "code",
   "execution_count": null,
   "id": "54eaff58",
   "metadata": {},
   "outputs": [],
   "source": [
    "df_sepsis_agg = df[['PatientID','hr','SepsisLabel']].groupby(['SepsisLabel']).get_group(1)\n",
    "df_sep_hour = df_sepsis_agg.groupby(['PatientID']).min().reset_index(drop=True).drop(columns='SepsisLabel')\n",
    "df_sep_hour_count = pd.DataFrame(df_sep_hour.value_counts().sort_index()).rename(columns={0: \"Count\"}).reset_index(drop=False)"
   ]
  },
  {
   "cell_type": "code",
   "execution_count": null,
   "id": "6a79a02e",
   "metadata": {},
   "outputs": [],
   "source": [
    "bins = [1, 6, 12, 24, 48, 72, 96, df_sep_hour.hr.max()]\n",
    "groups = df_sep_hour.groupby(pd.cut(df_sep_hour.hr, bins))\n",
    "groups.hr.count().plot(kind='bar', xlabel='Hour of Diagnosis', ylabel='Number of Septic Patients',figsize=(5,5),yticks=np.arange(0,6100,500))\n",
    "plt.xticks(np.arange(7),('--6','--12','--24','--48','--72','--96','--500'), rotation=0);"
   ]
  },
  {
   "cell_type": "code",
   "execution_count": null,
   "id": "a1b9be07",
   "metadata": {},
   "outputs": [],
   "source": [
    "bins = [1, 6, 12, df_sep_hour.hr.max()]\n",
    "groups_2 = df_sep_hour.groupby(pd.cut(df_sep_hour.hr, bins))\n",
    "groups_2.hr.count().plot(kind='bar', xlabel='Hour of Diagnosis', ylabel='Number of Septic Patients',figsize=(5,5),yticks=np.arange(0,6100,500))\n",
    "plt.xticks(np.arange(3),('--6','--12','--500'), rotation=0);"
   ]
  },
  {
   "cell_type": "code",
   "execution_count": null,
   "id": "5d3dd731",
   "metadata": {},
   "outputs": [],
   "source": [
    "n_values = 15\n",
    "plt.bar(df_sep_hour_count.loc[:n_values,'hr'].values, df_sep_hour_count.loc[:n_values,'Count'].values)\n",
    "plt.ylim(0,500)"
   ]
  },
  {
   "cell_type": "code",
   "execution_count": null,
   "id": "b7e645f5",
   "metadata": {},
   "outputs": [],
   "source": [
    "count_df = pd.DataFrame(groups.hr.count()).rename(columns={\"hr\":\"Count\"})\n",
    "count_df.to_csv('onset_hr_diagnosis.csv')"
   ]
  },
  {
   "cell_type": "markdown",
   "id": "75785a08",
   "metadata": {},
   "source": [
    "# Frequency of Variables"
   ]
  },
  {
   "cell_type": "code",
   "execution_count": null,
   "id": "25f6164c",
   "metadata": {},
   "outputs": [],
   "source": [
    "admin_feats = list(['stay_id','weight','admission_age','gender','PatientID','hr'])\n",
    "comorbidity = list(['aids','age_score','myocardial_infarct','congestive_heart_failure',\n",
    "                        'cerebrovascular_disease','charlson_comorbidity_index','chronic_pulmonary_disease',\n",
    "                        'dementia','diabetes_with_cc', 'diabetes_without_cc', 'malignant_cancer',\n",
    "                        'metastatic_solid_tumor', 'mild_liver_disease','paraplegia','peptic_ulcer_disease',\n",
    "                        'peripheral_vascular_disease','respiratory_rate_spontaneous', 'rheumatic_disease',\n",
    "                        'severe_liver_disease','renal_disease'])\n",
    "vital_signs = list(['heart_rate_vs','RESP_RATE','OXYGEN_SATURATION','gcs_eyes','gcs_verbal','gcs_motor',\n",
    "                    'gcs_unable','temperature_site_vs','GLUCOSE','TEMPERATURE','SBP_vs','DBP_vs','MBP_vs','gcs'])\n"
   ]
  },
  {
   "cell_type": "code",
   "execution_count": null,
   "id": "df553778",
   "metadata": {},
   "outputs": [],
   "source": [
    "# Categorical Data\n",
    "object_list = []\n",
    "for column in df.columns:\n",
    "    if df[column].dtype == object or df[column].dtype == bool:\n",
    "        # print(f\"{column} with unique type {df[column].unique()}\")\n",
    "        object_list.append(column)\n",
    "ignore_cols = object_list + comorbidity + vital_signs + ['stay_id','weight','admission_age','gender','PatientID','SOFA_24h']"
   ]
  },
  {
   "cell_type": "code",
   "execution_count": null,
   "id": "43deb576",
   "metadata": {},
   "outputs": [],
   "source": [
    "df_moded = df[df.columns.difference(ignore_cols)]"
   ]
  },
  {
   "cell_type": "code",
   "execution_count": null,
   "id": "110935af",
   "metadata": {},
   "outputs": [],
   "source": [
    "df_sep = df_moded[df['SepsisLabel'] == 1]\n",
    "df_non = df_moded[df['SepsisLabel'] == 0]"
   ]
  },
  {
   "cell_type": "code",
   "execution_count": null,
   "id": "72dbaa87",
   "metadata": {},
   "outputs": [],
   "source": [
    "df_hr = df_moded.groupby(['hr']).count().drop(columns='SepsisLabel')\n",
    "df_hr_sep = df_sep.groupby(['hr']).count().drop(columns='SepsisLabel')\n",
    "df_hr_non = df_non.groupby(['hr']).count().drop(columns='SepsisLabel')"
   ]
  },
  {
   "cell_type": "code",
   "execution_count": null,
   "id": "59298be7",
   "metadata": {},
   "outputs": [],
   "source": [
    "len(df_hr_sep.columns)"
   ]
  },
  {
   "cell_type": "code",
   "execution_count": null,
   "id": "1b36fdca",
   "metadata": {},
   "outputs": [],
   "source": [
    "from scipy.signal import find_peaks\n",
    "for i in df_hr_sep.columns:\n",
    "    x = df_hr_sep[i].values\n",
    "    print(i)\n",
    "    peaks, _ = find_peaks(x, prominence=10, width=3)\n",
    "    plt.plot(x)\n",
    "    plt.plot(peaks, x[peaks], \"x\")\n",
    "    plt.show()\n",
    "    print('------------------')"
   ]
  },
  {
   "cell_type": "code",
   "execution_count": null,
   "id": "715584d0",
   "metadata": {},
   "outputs": [],
   "source": [
    "fig, ax = plt.subplots(15, 4, sharey='row',figsize=(20,40))\n",
    "fig.subplots_adjust(hspace=0.4, wspace=0.1)\n",
    "plt.setp(ax, xticks=np.arange(0,50,4), xlim=[0,48], yticks=np.arange(0,10,1), ylim=[0,9])\n",
    "id = 0\n",
    "for i in range(15):\n",
    "    for j in range(4):\n",
    "        x = df_hr_sep.iloc[:,id].values\n",
    "        peaks, _ = find_peaks(x, prominence=20, width=2)\n",
    "        unique, counts = np.unique(np.diff(peaks), return_counts=True)\n",
    "        ax[i, j].bar(unique, counts)\n",
    "        ax[i, j].title.set_text(df_hr_sep.columns[id])\n",
    "        id+=1\n",
    "        if id > len(df_hr_sep.columns)-1:\n",
    "            break"
   ]
  },
  {
   "cell_type": "code",
   "execution_count": null,
   "id": "dc6d7b74",
   "metadata": {},
   "outputs": [],
   "source": [
    "fig, ax = plt.subplots(15, 4, sharey='row',figsize=(20,40))\n",
    "fig.subplots_adjust(hspace=0.4, wspace=0.1)\n",
    "plt.setp(ax, xticks=np.arange(0,50,4), xlim=[0,48], yticks=np.arange(0,10,1), ylim=[0,5])\n",
    "id = 0\n",
    "for i in range(15):\n",
    "    for j in range(4):\n",
    "        x = df_hr_non.iloc[:,id].values\n",
    "        peaks, _ = find_peaks(x, prominence=20, width=2)\n",
    "        unique, counts = np.unique(np.diff(peaks), return_counts=True)\n",
    "        ax[i, j].bar(unique, counts)\n",
    "        ax[i, j].title.set_text(df_hr_non.columns[id])\n",
    "        id+=1\n",
    "        if id > len(df_hr_non.columns)-1:\n",
    "            break"
   ]
  }
 ],
 "metadata": {
  "interpreter": {
   "hash": "5432f8d548eaaebb87d8c4e2cf1b237e1b330c3418db9f0fb5a8137eaa7957e9"
  },
  "kernelspec": {
   "display_name": "Python 3.8.10 64-bit ('rl_agents': conda)",
   "name": "python3"
  },
  "language_info": {
   "codemirror_mode": {
    "name": "ipython",
    "version": 3
   },
   "file_extension": ".py",
   "mimetype": "text/x-python",
   "name": "python",
   "nbconvert_exporter": "python",
   "pygments_lexer": "ipython3",
   "version": "3.8.12"
  },
  "metadata": {
   "interpreter": {
    "hash": "5432f8d548eaaebb87d8c4e2cf1b237e1b330c3418db9f0fb5a8137eaa7957e9"
   }
  }
 },
 "nbformat": 4,
 "nbformat_minor": 5
}
